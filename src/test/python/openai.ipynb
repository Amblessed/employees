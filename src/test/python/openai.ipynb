{
 "cells": [
  {
   "cell_type": "code",
   "id": "initial_id",
   "metadata": {
    "collapsed": true,
    "ExecuteTime": {
     "end_time": "2025-09-12T21:26:56.627330Z",
     "start_time": "2025-09-12T21:26:54.677591Z"
    }
   },
   "source": "from openai import OpenAI",
   "outputs": [],
   "execution_count": 1
  },
  {
   "metadata": {
    "ExecuteTime": {
     "end_time": "2025-09-12T23:53:55.342859Z",
     "start_time": "2025-09-12T23:53:54.921068Z"
    }
   },
   "cell_type": "code",
   "source": [
    "client = OpenAI()\n",
    "\n",
    "\n",
    "def get_content_from_openai_api(sys_content: str, user_content: str):\n",
    "    response = client.chat.completions.create(model=\"gpt-4\",\n",
    "                                              messages=[{\"role\": \"system\", \"content\": sys_content},\n",
    "                                                        {\"role\": \"user\", \"content\": user_content}])\n",
    "    return response.choices[0].message.content"
   ],
   "id": "bdb4bcbdb2c1ed89",
   "outputs": [],
   "execution_count": 8
  },
  {
   "metadata": {
    "ExecuteTime": {
     "end_time": "2025-09-12T22:25:01.362546Z",
     "start_time": "2025-09-12T22:24:52.011099Z"
    }
   },
   "cell_type": "code",
   "source": [
    "sys_msg = \"\"\"\n",
    "You hold a Phd in Computer Science with a deep knowledge of Java, Python, Springboot, Unit testing and professional code writing.\n",
    "You are a senior software engineer with 15 years of experience in software development.\n",
    "\"\"\"\n",
    "\n",
    "code = \"\"\"\n",
    "private List<String> departmentList() {\n",
    "        return List.of(\"Engineering\", \"Product\", \"Analytics\", \"HR\", \"Finance\", \"Sales\", \"IT Support\", \"Operations\");\n",
    "    }\n",
    "\"\"\"\n",
    "content = f\"\"\"How can I retrieve a random element from the code delimited by triple backticks ```{code}```.\"\"\"\n",
    "\n",
    "print(get_content_from_openai_api(sys_msg, content))"
   ],
   "id": "bb44ff1e776e54e3",
   "outputs": [
    {
     "name": "stdout",
     "output_type": "stream",
     "text": [
      "You can use Java's `Random` class along with List's `get()` method to retrieve a random element from a list. Modify your method like so:\n",
      "\n",
      "```java\n",
      "import java.util.*;\n",
      "\n",
      "public class Main {\n",
      "    private static List<String> departmentList = List.of(\"Engineering\", \"Product\", \"Analytics\", \"HR\", \"Finance\", \"Sales\", \"IT Support\", \"Operations\");\n",
      "    \n",
      "    public static void main(String[] args) {\n",
      "        String randomElement = getRandomElement(departmentList);\n",
      "        System.out.println(randomElement);\n",
      "    }\n",
      "    \n",
      "    private static String getRandomElement(List<String> list) {\n",
      "        Random rand = new Random();\n",
      "        return list.get(rand.nextInt(list.size()));\n",
      "    }\n",
      "}\n",
      "```\n",
      "\n",
      "In this code:\n",
      "\n",
      "- We have a list `departmentList` that holds all departments.\n",
      "- In `getRandomElement` method, we create an instance of `Random` class and use its method `nextInt(int bound)`. We give the size of our list as a bound to the `nextInt` function, it generates a random integer between `0` (inclusive) and the size of the list `list.size()` (exclusive).\n",
      "- Then we use the `list.get()` method to retrieve the element at the randomly generated index.\n",
      "\n",
      "Running the main method, will return a random department from the list each time.\n"
     ]
    }
   ],
   "execution_count": 6
  },
  {
   "metadata": {
    "ExecuteTime": {
     "end_time": "2025-09-12T22:26:15.533169Z",
     "start_time": "2025-09-12T22:26:13.964795Z"
    }
   },
   "cell_type": "code",
   "source": [
    "code = \"\"\"\n",
    "@Test\n",
    "@DisplayName(\"JUnit test for findAll method\")\n",
    "@Order(2)\n",
    "void givenEmployeeList_whenFindAll_thenReturnEmployeeList()\n",
    "\"\"\"\n",
    "content = f\"\"\"Give me a more descriptive display name for the code delimited by triple backticks ```{code}```.\"\"\"\n",
    "print(get_content_from_openai_api(sys_msg, content))"
   ],
   "id": "ccf9f43233bc026a",
   "outputs": [
    {
     "name": "stdout",
     "output_type": "stream",
     "text": [
      "\"JUnit Test for Verifying the Functionality of the findAll Method in Employee Management System\"\n"
     ]
    }
   ],
   "execution_count": 7
  },
  {
   "metadata": {
    "ExecuteTime": {
     "end_time": "2025-09-13T00:04:30.605143Z",
     "start_time": "2025-09-13T00:04:21.694740Z"
    }
   },
   "cell_type": "code",
   "source": [
    "sys_content = \"\"\"\n",
    "You hold a Phd in Psychology with a deep knowledge of human behavior and psychology.\n",
    "You are a senior psychologist with 15 years of experience in psychology.\n",
    "\"\"\"\n",
    "\n",
    "user_content = \"\"\"\n",
    "Analyze the following text and provide a summary of the main points.\n",
    "It’s in your hardest moments that life quietly reveals who’s really in your corner. When everything is going great — money’s flowing, health is intact, and your smile is genuine — it’s easy to be surrounded by people. The laughs come freely, the calls are frequent, and the support seems real.\n",
    "\n",
    "But the moment life throws you into a storm — maybe your finances collapse, your mental health dips, or you’re just emotionally drained — everything changes. Some of those same people who once cheered you on go silent. The calls stop. The energy shifts. Suddenly, it’s just you — and a handful, if any, who are still standing by you, checking in, offering help, or even just a listening ear.\n",
    "\n",
    "And that’s when it hits you: loyalty isn’t loud; it’s consistent. It doesn’t always show up with grand gestures — sometimes it’s the quiet friend who keeps checking in, or the one who shows up without being asked. Meanwhile, those you once supported without hesitation might act like they never knew you, offering excuses or pretending your struggle doesn’t exist.\n",
    "\n",
    "It hurts, deeply. But there’s clarity in that pain. Rock bottom doesn’t just break you — it reveals. It strips away the noise and shows you who’s real, who’s loyal, and who loved you for you, not for your success, status, or what you could give.\n",
    "\n",
    "And while it’s painful, it’s also powerful — because knowing who truly stands with you is a gift, even if it comes wrapped in heartbreak.\n",
    "\n",
    "Also give a short text that can be used as a status message on WhatsApp. Make it indirect\n",
    "\"\"\"\n",
    "print(get_content_from_openai_api(sys_content, user_content))"
   ],
   "id": "72404ccfbcf82d51",
   "outputs": [
    {
     "name": "stdout",
     "output_type": "stream",
     "text": [
      "Summary: \n",
      "The text discusses the distinguishing of genuine relationships during periods of hardship. When life is easy, it's simple to form connections. However, it's through trials - financial ruin, mental health struggles, or emotional exhaustion - that the true nature of support is revealed. Many who were once seemingly supportive may become distant. Nevertheless, these challenges highlight the consistent, unwavering support from a few, demonstrating that true loyalty isn't loud but consistently present. It's often those quietly providing assistance that prove their loyalty, while others may fail to acknowledge your struggles. Despite the associated pain, such revelations provide clarity, distinguishing between those who appreciate you for who you are and not for your riches or status. Although painful, understanding who is genuinely there for you can be powerful and insightful, even if initially cloaked in sorrow.\n",
      "\n",
      "WhatsApp Status Message: \n",
      "\"Some storms prove who truly anchors your ship. Silence of the crowd doesn't stop the few consistent voices from being heard. Loyalty isn't about volume, it's about consistency and presence when it matters the most.\"\n"
     ]
    }
   ],
   "execution_count": 13
  },
  {
   "metadata": {
    "ExecuteTime": {
     "end_time": "2025-09-12T23:58:27.189624Z",
     "start_time": "2025-09-12T23:58:22.226486Z"
    }
   },
   "cell_type": "code",
   "source": [
    "user_content = \"\"\"\n",
    "Analyze the following text and provide a summary of the main points.\n",
    "You only find out who has your back when you hit your lowest point. Life has a way of testing relationships, and it is often in seasons of struggle that true loyalty is revealed.\n",
    "\n",
    "When everything is going well, many people will surround you, offering laughter, company, and support that seems genuine. But when challenges strike whether in finances, health, or personal battles, some will quietly withdraw, while the ones who truly care will stay, offering encouragement, sacrifice, and unwavering presence.\n",
    "\n",
    "Sadly, some friends or people you once stood by wholeheartedly may claim they can’t even remember you when you turn to them for help, showing that their loyalty was only surface-deep. Hitting rock bottom is painful, yet it strips away pretenses and shows clearly who values you for who you are, not for what you have. It is in those moments of brokenness that the strength of real friendship and love shines the brightest.\n",
    "\"\"\"\n",
    "print(get_content_from_openai_api(sys_content, user_content))"
   ],
   "id": "64d79555ee6a81fe",
   "outputs": [
    {
     "name": "stdout",
     "output_type": "stream",
     "text": [
      "The text emphasizes the concept of loyalty and support during difficult times. The key points include the following:\n",
      "\n",
      "1. Life's challenges often act as tests of true loyalty within relationships. \n",
      "\n",
      "2. When situations are favorable, it's common for one to be surrounded by many seemingly supportive individuals, but the real test of their loyalty and support arises during challenges and difficulties.\n",
      "\n",
      "3. People who genuinely care will exhibit continuous support and encouragement during difficult times, while those whose loyalty was superficial may withdraw.\n",
      "\n",
      "4. The experience of hitting rock bottom, although painful, can act as a revealer of who truly values you for your intrinsic worth, as opposed to your external assets.\n",
      "\n",
      "5. The strength of genuine friendship and love becomes particularly noticeable during moments of vulnerability and hardship.\n"
     ]
    }
   ],
   "execution_count": 10
  }
 ],
 "metadata": {
  "kernelspec": {
   "display_name": "Python 3",
   "language": "python",
   "name": "python3"
  },
  "language_info": {
   "codemirror_mode": {
    "name": "ipython",
    "version": 2
   },
   "file_extension": ".py",
   "mimetype": "text/x-python",
   "name": "python",
   "nbconvert_exporter": "python",
   "pygments_lexer": "ipython2",
   "version": "2.7.6"
  }
 },
 "nbformat": 4,
 "nbformat_minor": 5
}
