{
 "cells": [
  {
   "cell_type": "code",
   "id": "initial_id",
   "metadata": {
    "collapsed": true,
    "ExecuteTime": {
     "end_time": "2025-09-16T01:21:00.420719Z",
     "start_time": "2025-09-16T01:20:58.962292Z"
    }
   },
   "source": "from openai import OpenAI",
   "outputs": [],
   "execution_count": 1
  },
  {
   "metadata": {
    "ExecuteTime": {
     "end_time": "2025-09-16T01:21:01.061864Z",
     "start_time": "2025-09-16T01:21:00.436774Z"
    }
   },
   "cell_type": "code",
   "source": [
    "client = OpenAI()\n",
    "\n",
    "\n",
    "def get_content_from_openai_api(sys_content: str, user_content: str):\n",
    "    response = client.chat.completions.create(model=\"gpt-4\",\n",
    "                                              messages=[{\"role\": \"system\", \"content\": sys_content},\n",
    "                                                        {\"role\": \"user\", \"content\": user_content}])\n",
    "    return response.choices[0].message.content"
   ],
   "id": "bdb4bcbdb2c1ed89",
   "outputs": [],
   "execution_count": 2
  },
  {
   "metadata": {
    "ExecuteTime": {
     "end_time": "2025-09-16T01:21:06.181877Z",
     "start_time": "2025-09-16T01:21:06.178676Z"
    }
   },
   "cell_type": "code",
   "source": [
    "sys_msg = \"\"\"\n",
    "You hold a Phd in Computer Science with a deep knowledge of Java, Python, Springboot, Unit testing and professional code writing.\n",
    "You are a senior software engineer with 15 years of experience in software development.\n",
    "\"\"\""
   ],
   "id": "bb44ff1e776e54e3",
   "outputs": [],
   "execution_count": 3
  },
  {
   "metadata": {
    "ExecuteTime": {
     "end_time": "2025-09-13T11:13:24.657622Z",
     "start_time": "2025-09-13T11:13:15.137616Z"
    }
   },
   "cell_type": "code",
   "source": [
    "\n",
    "code = \"\"\"\n",
    "private List<String> departmentList() {\n",
    "        return List.of(\"Engineering\", \"Product\", \"Analytics\", \"HR\", \"Finance\", \"Sales\", \"IT Support\", \"Operations\");\n",
    "    }\n",
    "\"\"\"\n",
    "content = f\"\"\"How can I retrieve a random element from the code delimited by triple backticks ```{code}```.\"\"\"\n",
    "\n",
    "print(get_content_from_openai_api(sys_msg, content))"
   ],
   "id": "df408bba0a0134e7",
   "outputs": [
    {
     "name": "stdout",
     "output_type": "stream",
     "text": [
      "To retrieve a random element from the provided `List` in Java. You simply have to generate a random index within the bounds of the list's size. I assume you need random generation from Java. Here's your updated method:\n",
      "\n",
      "```java\n",
      "import java.util.List;\n",
      "import java.util.Random;\n",
      "\n",
      "public class DepartmentRandomizer {\n",
      "\n",
      "    private Random random = new Random();\n",
      "    \n",
      "    private List<String> departmentList = List.of(\"Engineering\", \"Product\", \"Analytics\", \"HR\",\n",
      "                                                  \"Finance\", \"Sales\", \"IT Support\", \"Operations\");\n",
      "                                                \n",
      "    public String getRandomDepartment() {\n",
      "        int randomIndex = random.nextInt(departmentList.size());\n",
      "        return departmentList.get(randomIndex);\n",
      "    }\n",
      "}\n",
      "```\n",
      "\n",
      "Within this `DepartmentRandomizer` class, I've created a `getRandomDepartment()` method that retrieves a random department from your list.\n",
      "\n",
      "The `nextInt()` method of `java.util.Random` generates a pseudorandom integer within the provided bound, perfect for generating valid indexes for your list.\n",
      "\n",
      "To get a random department, you would therefore do:\n",
      "\n",
      "```java\n",
      "DepartmentRandomizer departmentRandomizer = new DepartmentRandomizer();\n",
      "String randomDepartment = departmentRandomizer.getRandomDepartment();\n",
      "```\n",
      "\n",
      "`randomDepartment` will be a random selection from your list. This randomness can be very useful when writing tests, simulating unpredictable input data, etc.\n"
     ]
    }
   ],
   "execution_count": 7
  },
  {
   "metadata": {
    "ExecuteTime": {
     "end_time": "2025-09-12T22:26:15.533169Z",
     "start_time": "2025-09-12T22:26:13.964795Z"
    }
   },
   "cell_type": "code",
   "source": [
    "code = \"\"\"\n",
    "@Test\n",
    "@DisplayName(\"JUnit test for findAll method\")\n",
    "@Order(2)\n",
    "void givenEmployeeList_whenFindAll_thenReturnEmployeeList()\n",
    "\"\"\"\n",
    "content = f\"\"\"Give me a more descriptive display name for the code delimited by triple backticks ```{code}```.\"\"\"\n",
    "print(get_content_from_openai_api(sys_msg, content))"
   ],
   "id": "ccf9f43233bc026a",
   "outputs": [
    {
     "name": "stdout",
     "output_type": "stream",
     "text": [
      "\"JUnit Test for Verifying the Functionality of the findAll Method in Employee Management System\"\n"
     ]
    }
   ],
   "execution_count": 7
  },
  {
   "metadata": {
    "ExecuteTime": {
     "end_time": "2025-09-13T00:04:30.605143Z",
     "start_time": "2025-09-13T00:04:21.694740Z"
    }
   },
   "cell_type": "code",
   "source": [
    "sys_content = \"\"\"\n",
    "You hold a Phd in Psychology with a deep knowledge of human behavior and psychology.\n",
    "You are a senior psychologist with 15 years of experience in psychology.\n",
    "\"\"\"\n",
    "\n",
    "user_content = \"\"\"\n",
    "Analyze the following text and provide a summary of the main points.\n",
    "It’s in your hardest moments that life quietly reveals who’s really in your corner. When everything is going great — money’s flowing, health is intact, and your smile is genuine — it’s easy to be surrounded by people. The laughs come freely, the calls are frequent, and the support seems real.\n",
    "\n",
    "But the moment life throws you into a storm — maybe your finances collapse, your mental health dips, or you’re just emotionally drained — everything changes. Some of those same people who once cheered you on go silent. The calls stop. The energy shifts. Suddenly, it’s just you — and a handful, if any, who are still standing by you, checking in, offering help, or even just a listening ear.\n",
    "\n",
    "And that’s when it hits you: loyalty isn’t loud; it’s consistent. It doesn’t always show up with grand gestures — sometimes it’s the quiet friend who keeps checking in, or the one who shows up without being asked. Meanwhile, those you once supported without hesitation might act like they never knew you, offering excuses or pretending your struggle doesn’t exist.\n",
    "\n",
    "It hurts, deeply. But there’s clarity in that pain. Rock bottom doesn’t just break you — it reveals. It strips away the noise and shows you who’s real, who’s loyal, and who loved you for you, not for your success, status, or what you could give.\n",
    "\n",
    "And while it’s painful, it’s also powerful — because knowing who truly stands with you is a gift, even if it comes wrapped in heartbreak.\n",
    "\n",
    "Also give a short text that can be used as a status message on WhatsApp. Make it indirect\n",
    "\"\"\"\n",
    "print(get_content_from_openai_api(sys_content, user_content))"
   ],
   "id": "72404ccfbcf82d51",
   "outputs": [
    {
     "name": "stdout",
     "output_type": "stream",
     "text": [
      "Summary: \n",
      "The text discusses the distinguishing of genuine relationships during periods of hardship. When life is easy, it's simple to form connections. However, it's through trials - financial ruin, mental health struggles, or emotional exhaustion - that the true nature of support is revealed. Many who were once seemingly supportive may become distant. Nevertheless, these challenges highlight the consistent, unwavering support from a few, demonstrating that true loyalty isn't loud but consistently present. It's often those quietly providing assistance that prove their loyalty, while others may fail to acknowledge your struggles. Despite the associated pain, such revelations provide clarity, distinguishing between those who appreciate you for who you are and not for your riches or status. Although painful, understanding who is genuinely there for you can be powerful and insightful, even if initially cloaked in sorrow.\n",
      "\n",
      "WhatsApp Status Message: \n",
      "\"Some storms prove who truly anchors your ship. Silence of the crowd doesn't stop the few consistent voices from being heard. Loyalty isn't about volume, it's about consistency and presence when it matters the most.\"\n"
     ]
    }
   ],
   "execution_count": 13
  },
  {
   "metadata": {
    "ExecuteTime": {
     "end_time": "2025-09-12T23:58:27.189624Z",
     "start_time": "2025-09-12T23:58:22.226486Z"
    }
   },
   "cell_type": "code",
   "source": [
    "user_content = \"\"\"\n",
    "Analyze the following text and provide a summary of the main points.\n",
    "You only find out who has your back when you hit your lowest point. Life has a way of testing relationships, and it is often in seasons of struggle that true loyalty is revealed.\n",
    "\n",
    "When everything is going well, many people will surround you, offering laughter, company, and support that seems genuine. But when challenges strike whether in finances, health, or personal battles, some will quietly withdraw, while the ones who truly care will stay, offering encouragement, sacrifice, and unwavering presence.\n",
    "\n",
    "Sadly, some friends or people you once stood by wholeheartedly may claim they can’t even remember you when you turn to them for help, showing that their loyalty was only surface-deep. Hitting rock bottom is painful, yet it strips away pretenses and shows clearly who values you for who you are, not for what you have. It is in those moments of brokenness that the strength of real friendship and love shines the brightest.\n",
    "\"\"\"\n",
    "print(get_content_from_openai_api(sys_content, user_content))"
   ],
   "id": "64d79555ee6a81fe",
   "outputs": [
    {
     "name": "stdout",
     "output_type": "stream",
     "text": [
      "The text emphasizes the concept of loyalty and support during difficult times. The key points include the following:\n",
      "\n",
      "1. Life's challenges often act as tests of true loyalty within relationships. \n",
      "\n",
      "2. When situations are favorable, it's common for one to be surrounded by many seemingly supportive individuals, but the real test of their loyalty and support arises during challenges and difficulties.\n",
      "\n",
      "3. People who genuinely care will exhibit continuous support and encouragement during difficult times, while those whose loyalty was superficial may withdraw.\n",
      "\n",
      "4. The experience of hitting rock bottom, although painful, can act as a revealer of who truly values you for your intrinsic worth, as opposed to your external assets.\n",
      "\n",
      "5. The strength of genuine friendship and love becomes particularly noticeable during moments of vulnerability and hardship.\n"
     ]
    }
   ],
   "execution_count": 10
  },
  {
   "metadata": {
    "ExecuteTime": {
     "end_time": "2025-09-13T11:13:45.846248Z",
     "start_time": "2025-09-13T11:13:35.114164Z"
    }
   },
   "cell_type": "code",
   "source": [
    "code = \"\"\"\n",
    "jakarta.persistence.TransactionRequiredException: No EntityManager with actual transaction available for current thread - cannot reliably process 'remove' call\n",
    "\"\"\"\n",
    "\n",
    "content = f\"\"\"Explain the error in the code delimited by triple backticks ```{code}```.\"\"\"\n",
    "print(get_content_from_openai_api(sys_msg, content))"
   ],
   "id": "1da990c51a47eaa6",
   "outputs": [
    {
     "name": "stdout",
     "output_type": "stream",
     "text": [
      "The `jakarta.persistence.TransactionRequiredException: No EntityManager with actual transaction available for current thread - cannot reliably process 'remove' call` error is related to the JPA (Java Persistence API) framework. The exception is thrown when an operation requires a transaction but no transaction is in progress.\n",
      "\n",
      "In JPA, operations such as `persist()`, `merge()`, `remove()` and `refresh()` are required to be wrapped within a transaction. These operations require a \"live\" transaction context and thus if a transaction is not active, you will receive this exception. From the error message, it seems the 'remove' operation has been performed outside of a transactional context.\n",
      "\n",
      "One common reason for this exception could be that you are trying to remove an entity outside of a transaction. To fix this, you need to annotate your removal method with `@Transactional` (`org.springframework.transaction.annotation.Transactional`) to enable Spring to manage transactions.\n",
      "\n",
      "Please ensure:\n",
      "\n",
      "1. You have properly annotated the service method with `@Transactional`. This annotation tells Spring to start a transaction before the method is called and commit it after the method returns.\n",
      "2. Make sure the current thread that is executing the particular method which triggers the 'remove' call has an active EntityManager with a started transaction, as the JPA doesn't handle transactions automatically for you.\n",
      "\n",
      "Please note that `@Transactional` is typically placed before the declaration of a class or a method.\n",
      "\n",
      "Example:\n",
      "```java\n",
      "@Transactional\n",
      "public void deleteEntity(MyEntity entity) {\n",
      "    entityManager.remove(entity);\n",
      "}\n",
      "```\n",
      "\n",
      "Remember that transactions in JPA are important to ensure data consistency and to enable rollback in case of any failures during data operations. Therefore, managing transactions properly is a very crucial part of any application that interacts with a database.\n"
     ]
    }
   ],
   "execution_count": 8
  },
  {
   "metadata": {
    "ExecuteTime": {
     "end_time": "2025-09-16T01:24:05.415083Z",
     "start_time": "2025-09-16T01:23:52.014894Z"
    }
   },
   "cell_type": "code",
   "source": [
    "code = \"\"\"\n",
    "public class Employee {\n",
    "\n",
    "    @Id\n",
    "    @GeneratedValue(strategy = GenerationType.IDENTITY)\n",
    "    @Column(name = \"id\")\n",
    "    private Long id;\n",
    "\n",
    "    @Column(name = \"first_name\", nullable = false, length = 50)\n",
    "    private String firstName;\n",
    "\n",
    "    @Column(name = \"last_name\", nullable = false, length = 50)\n",
    "    private String lastName;\n",
    "\n",
    "    @Column(name = \"email\", nullable = false, unique = true, length = 75)\n",
    "    private String email;\n",
    "\n",
    "    @Column(name = \"phone_number\", unique = true, nullable = false)\n",
    "    private String phoneNumber;\n",
    "\n",
    "    @Column(name = \"department\", nullable = false, length = 50)\n",
    "    private String department;\n",
    "\n",
    "    @Column(name = \"position\", nullable = false, length = 50)\n",
    "    private String position;\n",
    "\n",
    "    @Column(name = \"salary\", nullable = false)\n",
    "    private BigDecimal salary;\n",
    "\n",
    "    @Column(name = \"hire_date\", nullable = false)\n",
    "    private LocalDate hireDate;\n",
    "\n",
    "    @Column(name = \"performance_review\", columnDefinition = \"TEXT\")\n",
    "    private String performanceReview;\n",
    "\n",
    "    @Column(name = \"skills\", columnDefinition = \"TEXT\")\n",
    "    private String skills;\n",
    "\n",
    "    //@CreationTimestamp\n",
    "    //@Column(nullable = false, updatable = false)\n",
    "    private LocalDateTime createdAt;\n",
    "\n",
    "    //@UpdateTimestamp\n",
    "    //@Column(nullable = false)\n",
    "    private LocalDateTime updatedAt;\n",
    "\n",
    "    @Column(name = \"active\")\n",
    "    private Boolean active = true;\n",
    "\n",
    "    // Link to User (login credentials)\n",
    "    @OneToOne\n",
    "    @JoinColumn(name = \"user_id\", nullable = false, unique = true)\n",
    "    private User user;\n",
    "\"\"\"\n",
    "\n",
    "\n",
    "user_content = \"\"\"Generate the unit test for the EmployeeRepository for the code delimited by triple backticks ```{code}```  using DataJpa.\"\"\"\n",
    "\n",
    "print(get_content_from_openai_api(sys_msg, user_content))"
   ],
   "id": "2898288693dd2c15",
   "outputs": [
    {
     "name": "stdout",
     "output_type": "stream",
     "text": [
      "As you didn't provide a specific code, I'll create unit tests for a fictional `EmployeeRepository` including `findAll()`, `findById()`, `save()`, and `deleteById()` methods. Here is a general example in Junit 5:\n",
      "\n",
      "```java\n",
      "import org.junit.jupiter.api.Test;\n",
      "import org.springframework.beans.factory.annotation.Autowired;\n",
      "import org.springframework.boot.test.autoconfigure.orm.jpa.DataJpaTest;\n",
      "import org.springframework.boot.test.autoconfigure.orm.jpa.TestEntityManager;\n",
      "import static org.assertj.core.api.Assertions.assertThat;\n",
      "import com.example.demo.models.Employee;\n",
      "import com.example.demo.repository.EmployeeRepository;\n",
      "\n",
      "\n",
      "@DataJpaTest\n",
      "public class EmployeeRepositoryTest{\n",
      "\n",
      "    @Autowired\n",
      "    private TestEntityManager entityManager;\n",
      "\n",
      "    @Autowired\n",
      "    private EmployeeRepository employeeRepository;\n",
      "\n",
      "    @Test\n",
      "    public void testFindAll() {\n",
      "        Employee employee = new Employee(\"John\", \"Doe\");\n",
      "        entityManager.persist(employee);\n",
      "        entityManager.flush();\n",
      "\n",
      "        List<Employee> employees = employeeRepository.findAll();\n",
      "\n",
      "        assertThat(employees).isNotEmpty();\n",
      "    }\n",
      "\n",
      "    @Test\n",
      "    public void testFindById() {\n",
      "        Employee employee = new Employee(\"John\", \"Doe\");\n",
      "        Employee savedInDb = entityManager.persist(employee);\n",
      "        entityManager.flush();\n",
      "\n",
      "        Employee getFromDb = employeeRepository.findById(savedInDb.getId()).orElse(null);\n",
      "\n",
      "        assertThat(getFromDb).isEqualTo(savedInDb);\n",
      "    }\n",
      "\n",
      "    @Test\n",
      "    public void testSave() {\n",
      "        Employee employee = new Employee(\"John\", \"Doe\");\n",
      "        Employee savedInDb = entityManager.persist(employee);\n",
      "        entityManager.flush();\n",
      "\n",
      "        Employee getFromDb = employeeRepository.findById(savedInDb.getId()).orElse(null);\n",
      "\n",
      "        assertThat(getFromDb).isEqualTo(savedInDb);\n",
      "    }\n",
      "\n",
      "    @Test\n",
      "    public void testDeleteById() {\n",
      "        Employee employee1 = new Employee(\"John\", \"Doe\");\n",
      "        Employee employee2 = new Employee(\"Jane\", \"Doe\");\n",
      "\n",
      "        Employee emp1 = entityManager.persist(employee1);\n",
      "        entityManager.persist(employee2);\n",
      "        entityManager.flush();\n",
      "\n",
      "        employeeRepository.deleteById(emp1.getId());\n",
      "\n",
      "        List<Employee> employees = employeeRepository.findAll();\n",
      "\n",
      "        assertThat(employees).doesNotContain(emp1);\n",
      "    }\n",
      "}\n",
      "```\n",
      "\n",
      "This is a sample unit test class. Since the class is annotated with @DataJpaTest, it auto-configures H2, an in-memory database, and hibernate, and it enables url output plus disabling full auto-configuration. Please adjust according to your existing code.\n"
     ]
    }
   ],
   "execution_count": 4
  }
 ],
 "metadata": {
  "kernelspec": {
   "display_name": "Python 3",
   "language": "python",
   "name": "python3"
  },
  "language_info": {
   "codemirror_mode": {
    "name": "ipython",
    "version": 2
   },
   "file_extension": ".py",
   "mimetype": "text/x-python",
   "name": "python",
   "nbconvert_exporter": "python",
   "pygments_lexer": "ipython2",
   "version": "2.7.6"
  }
 },
 "nbformat": 4,
 "nbformat_minor": 5
}
